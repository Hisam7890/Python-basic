{
 "cells": [
  {
   "cell_type": "markdown",
   "metadata": {},
   "source": [
    "list"
   ]
  },
  {
   "cell_type": "markdown",
   "metadata": {},
   "source": [
    "append, pop , sort, count"
   ]
  },
  {
   "cell_type": "code",
   "execution_count": 9,
   "metadata": {},
   "outputs": [
    {
     "data": {
      "text/plain": [
       "['hisam', 'emaz', 'jk', 'ifra', 'jkb']"
      ]
     },
     "execution_count": 9,
     "metadata": {},
     "output_type": "execute_result"
    }
   ],
   "source": [
    "team = ['hisam','emaz', 'jk','ifra']\n",
    "team\n",
    "team.append( 'jkb')\n",
    "team"
   ]
  },
  {
   "cell_type": "code",
   "execution_count": 12,
   "metadata": {},
   "outputs": [
    {
     "data": {
      "text/plain": [
       "[]"
      ]
     },
     "execution_count": 12,
     "metadata": {},
     "output_type": "execute_result"
    }
   ],
   "source": [
    "team = ['hisam','emaz', 'jk','ifra']\n",
    "team\n",
    "team.clear()\n",
    "team"
   ]
  },
  {
   "cell_type": "code",
   "execution_count": 19,
   "metadata": {},
   "outputs": [
    {
     "data": {
      "text/plain": [
       "5"
      ]
     },
     "execution_count": 19,
     "metadata": {},
     "output_type": "execute_result"
    }
   ],
   "source": [
    "pole = [333, 444, 555, 666, 444, 555]\n",
    "thoru = pole.count(444)+3 * pole.count(666)\n",
    "thoru\n"
   ]
  },
  {
   "cell_type": "code",
   "execution_count": 59,
   "metadata": {},
   "outputs": [
    {
     "name": "stdout",
     "output_type": "stream",
     "text": [
      "[73, 56, 44, 23, 23]\n"
     ]
    }
   ],
   "source": [
    "track = [29, 73, 44 , 56, 23]\n",
    "p = [23]\n",
    "track.sort(reverse=True)\n",
    "track.pop(3)+3\n",
    "track.extend(p)\n",
    "print(track)"
   ]
  },
  {
   "cell_type": "code",
   "execution_count": 54,
   "metadata": {},
   "outputs": [
    {
     "name": "stdout",
     "output_type": "stream",
     "text": [
      "[73, 56, 44, 23, 23]\n"
     ]
    }
   ],
   "source": [
    "track = [29, 73, 44 , 56, 23]\n",
    "p = [23]\n",
    "track.sort(reverse=True)\n",
    "track.pop(3)\n",
    "track.extend(p)\n",
    "print(track)"
   ]
  }
 ],
 "metadata": {
  "kernelspec": {
   "display_name": "Python 3",
   "language": "python",
   "name": "python3"
  },
  "language_info": {
   "codemirror_mode": {
    "name": "ipython",
    "version": 3
   },
   "file_extension": ".py",
   "mimetype": "text/x-python",
   "name": "python",
   "nbconvert_exporter": "python",
   "pygments_lexer": "ipython3",
   "version": "3.12.7"
  }
 },
 "nbformat": 4,
 "nbformat_minor": 2
}
