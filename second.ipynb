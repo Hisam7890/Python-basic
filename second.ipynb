{
 "cells": [
  {
   "cell_type": "markdown",
   "metadata": {},
   "source": []
  },
  {
   "cell_type": "code",
   "execution_count": 3,
   "metadata": {},
   "outputs": [
    {
     "name": "stdout",
     "output_type": "stream",
     "text": [
      "My name is Hisam Ilyas Hashmi i am student of software Engineering \"Kotli\" my roll no is 31\n"
     ]
    }
   ],
   "source": [
    "roll_no = 31\n",
    "dep = 'software Engineering \"Kotli\"'\n",
    "semester = 6\n",
    "name = 'Hisam Ilyas Hashmi'\n",
    "session = '2021-25'\n",
    "print('My name is',name, 'i am student of',dep, 'my roll no is',roll_no)"
   ]
  },
  {
   "cell_type": "markdown",
   "metadata": {},
   "source": [
    "long string or paragraph"
   ]
  },
  {
   "cell_type": "code",
   "execution_count": 4,
   "metadata": {},
   "outputs": [
    {
     "data": {
      "text/plain": [
       "'FileNotFoundErrord\\ndfd\\ndf\\nfddff\\nfds\\nfsdd\\ndd\\nfds\\ndsf\\ndff\\ndfds\\n'"
      ]
     },
     "execution_count": 4,
     "metadata": {},
     "output_type": "execute_result"
    }
   ],
   "source": [
    "intro = '''FileNotFoundErrord\n",
    "dfd\n",
    "df\n",
    "fddff\n",
    "fds\n",
    "fsdd\n",
    "dd\n",
    "fds\n",
    "dsf\n",
    "dff\n",
    "dfds\n",
    "'''\n",
    "intro"
   ]
  },
  {
   "cell_type": "markdown",
   "metadata": {},
   "source": [
    "single character access"
   ]
  },
  {
   "cell_type": "code",
   "execution_count": 6,
   "metadata": {},
   "outputs": [
    {
     "data": {
      "text/plain": [
       "'m'"
      ]
     },
     "execution_count": 6,
     "metadata": {},
     "output_type": "execute_result"
    }
   ],
   "source": [
    "nmae= 'hisam'\n",
    "name[4]"
   ]
  },
  {
   "cell_type": "markdown",
   "metadata": {},
   "source": [
    "len function start with number 1 or index number start with 0"
   ]
  },
  {
   "cell_type": "code",
   "execution_count": 10,
   "metadata": {},
   "outputs": [
    {
     "name": "stdout",
     "output_type": "stream",
     "text": [
      "18\n"
     ]
    }
   ],
   "source": [
    "nmae= 'hisam'\n",
    "print(len(name))"
   ]
  },
  {
   "cell_type": "markdown",
   "metadata": {},
   "source": [
    "string slicing"
   ]
  },
  {
   "cell_type": "code",
   "execution_count": 13,
   "metadata": {},
   "outputs": [],
   "source": [
    "data = 'my name is hisam ilyas hashmi'\n",
    "name = 'hisam'\n",
    "# print(data[4:10])\n",
    "# print(name[1:3])\n",
    "name = data[6:15]"
   ]
  }
 ],
 "metadata": {
  "kernelspec": {
   "display_name": "Python 3",
   "language": "python",
   "name": "python3"
  },
  "language_info": {
   "codemirror_mode": {
    "name": "ipython",
    "version": 3
   },
   "file_extension": ".py",
   "mimetype": "text/x-python",
   "name": "python",
   "nbconvert_exporter": "python",
   "pygments_lexer": "ipython3",
   "version": "3.12.7"
  }
 },
 "nbformat": 4,
 "nbformat_minor": 2
}
