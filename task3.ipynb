{
 "cells": [
  {
   "cell_type": "markdown",
   "metadata": {},
   "source": [
    "sum diff and product"
   ]
  },
  {
   "cell_type": "code",
   "execution_count": 5,
   "metadata": {},
   "outputs": [
    {
     "name": "stdout",
     "output_type": "stream",
     "text": [
      "34\n",
      "264\n",
      "1.8333333333333333\n"
     ]
    }
   ],
   "source": [
    "s1 = 22\n",
    "s2 = 12\n",
    "s = s1 + s2\n",
    "print(s)\n",
    "n = s1 * s2\n",
    "print(n)\n",
    "n1 = s1 / s2\n",
    "print(n1)\n",
    "\n",
    "\n"
   ]
  },
  {
   "cell_type": "markdown",
   "metadata": {},
   "source": [
    "(base*height)/2"
   ]
  },
  {
   "cell_type": "code",
   "execution_count": 6,
   "metadata": {},
   "outputs": [
    {
     "name": "stdout",
     "output_type": "stream",
     "text": [
      "60.0\n"
     ]
    }
   ],
   "source": [
    "s1 = 12\n",
    "s2 = 10\n",
    "print((s1*s2)/2)"
   ]
  },
  {
   "cell_type": "markdown",
   "metadata": {},
   "source": [
    "given two numbers, find the result of their division and modulus."
   ]
  },
  {
   "cell_type": "code",
   "execution_count": 8,
   "metadata": {},
   "outputs": [
    {
     "name": "stdout",
     "output_type": "stream",
     "text": [
      "Division 1.0\n",
      "Modulus 0\n"
     ]
    }
   ],
   "source": [
    "n1 = int(input(\"enter 1st number: \"))\n",
    "n2 = int(input(\"enter 2st number: \"))\n",
    "division = n1 / n2\n",
    "print(\"Division\",division)\n",
    "modulus = n1%n2\n",
    "print(\"Modulus\",modulus)"
   ]
  },
  {
   "cell_type": "markdown",
   "metadata": {},
   "source": [
    "Take the user's name and print a welcome message like: \"Hello, [Name]!\"\n",
    "Ask the user for their age and print it back in a sentence."
   ]
  },
  {
   "cell_type": "code",
   "execution_count": 11,
   "metadata": {},
   "outputs": [
    {
     "name": "stdout",
     "output_type": "stream",
     "text": [
      "welcome Sir {'hisam'}\n",
      "my age is {23} year old\n"
     ]
    }
   ],
   "source": [
    "name = input(\"enter name: \")\n",
    "print(\"welcome Sir\",{name})\n",
    "age = int(input('your age'))\n",
    "print(\"my age is\",{age}, \"year old\")\n"
   ]
  },
  {
   "cell_type": "markdown",
   "metadata": {},
   "source": [
    "Take three numbers as input and display them in a formatted string, e.g., \"You entered: [x], [y], and [z].\""
   ]
  },
  {
   "cell_type": "code",
   "execution_count": 14,
   "metadata": {},
   "outputs": [
    {
     "name": "stdout",
     "output_type": "stream",
     "text": [
      "your string 3 2 3\n"
     ]
    }
   ],
   "source": [
    "n1 = int(input(\"enter 1st number: \"))\n",
    "n2 = int(input(\"enter 2nd number: \"))\n",
    "n3 = int(input(\"enter 3rd number: \"))\n",
    "print(\"your string\",n1, n2, n3)\n"
   ]
  },
  {
   "cell_type": "markdown",
   "metadata": {},
   "source": [
    "Take two decimal numbers as input, cast them to integers, and display their sum."
   ]
  },
  {
   "cell_type": "code",
   "execution_count": 18,
   "metadata": {},
   "outputs": [
    {
     "name": "stdout",
     "output_type": "stream",
     "text": [
      "3\n"
     ]
    }
   ],
   "source": [
    "n1 = float(input(\"enter 1st number: \"))\n",
    "n2 = float(input(\"enter 2nd number: \"))\n",
    "\n",
    "int1 = int(n1)\n",
    "int2 = int(n2)\n",
    "print(int1+int2)"
   ]
  },
  {
   "cell_type": "markdown",
   "metadata": {},
   "source": [
    "Convert a string input into an integer, multiply it by 10, and print the result."
   ]
  },
  {
   "cell_type": "code",
   "execution_count": 19,
   "metadata": {},
   "outputs": [
    {
     "name": "stdout",
     "output_type": "stream",
     "text": [
      "220\n"
     ]
    }
   ],
   "source": [
    "strng1 = str(input(\"enter 1st number: \"))\n",
    "\n",
    "in1 = int(strng1)\n",
    "n2= in1 * 10\n",
    "print(n2)\n"
   ]
  },
  {
   "cell_type": "markdown",
   "metadata": {},
   "source": [
    "Ask the user for a year as a string and convert it into an integer to calculate their age"
   ]
  },
  {
   "cell_type": "code",
   "execution_count": 23,
   "metadata": {},
   "outputs": [
    {
     "name": "stdout",
     "output_type": "stream",
     "text": [
      "You are 24 years old.\n"
     ]
    }
   ],
   "source": [
    "birth = str(input(\"Enter your birth year (e.g., 2000):\"))\n",
    "\n",
    "birth= int(birth)\n",
    "\n",
    "from datetime import datetime\n",
    "current_year = datetime.now().year\n",
    "age = current_year - birth\n",
    "print(f\"You are {age} years old.\")\n",
    "\n",
    "\n",
    "\n",
    "\n"
   ]
  },
  {
   "cell_type": "markdown",
   "metadata": {},
   "source": [
    "Lists\n",
    "Ask the user to input 3 favorite movies and store them in a list. Print the list."
   ]
  },
  {
   "cell_type": "code",
   "execution_count": 24,
   "metadata": {},
   "outputs": [
    {
     "name": "stdout",
     "output_type": "stream",
     "text": [
      "['23ed', 'dd', 'ede']\n"
     ]
    }
   ],
   "source": [
    "n1 =(input(\"enter 1st movie: \"))\n",
    "n2 =(input(\"enter 2nd movie: \"))\n",
    "n3 =(input(\"enter 3rd third: \"))\n",
    "\n",
    "list = [n1, n2, n3]\n",
    "print(list)"
   ]
  },
  {
   "cell_type": "markdown",
   "metadata": {},
   "source": [
    "Take 4 numbers as input, store them in a list, and display their sum."
   ]
  },
  {
   "cell_type": "code",
   "execution_count": 28,
   "metadata": {},
   "outputs": [
    {
     "name": "stdout",
     "output_type": "stream",
     "text": [
      "[2, 3, 2, 3]\n",
      "10\n"
     ]
    }
   ],
   "source": [
    "n1 =int(input(\"enter 1st : \"))\n",
    "n2 =int(input(\"enter 2nd : \"))\n",
    "n3 =int(input(\"enter 3rd : \"))\n",
    "n4 =int(input(\"enter 4th : \"))\n",
    "\n",
    "list = [n1, n2, n3 , n4]\n",
    "print(list)\n",
    "sum = n1+n2+n3+n4\n",
    "print(sum)\n"
   ]
  },
  {
   "cell_type": "markdown",
   "metadata": {},
   "source": [
    "Create a list with 5 elements and print the first and last elements."
   ]
  },
  {
   "cell_type": "code",
   "execution_count": 31,
   "metadata": {},
   "outputs": [
    {
     "name": "stdout",
     "output_type": "stream",
     "text": [
      "m\n"
     ]
    }
   ],
   "source": [
    "n1 =['hisam','emaz','jk','tani','sami']\n",
    "print(n1)"
   ]
  }
 ],
 "metadata": {
  "kernelspec": {
   "display_name": "Python 3",
   "language": "python",
   "name": "python3"
  },
  "language_info": {
   "codemirror_mode": {
    "name": "ipython",
    "version": 3
   },
   "file_extension": ".py",
   "mimetype": "text/x-python",
   "name": "python",
   "nbconvert_exporter": "python",
   "pygments_lexer": "ipython3",
   "version": "3.12.7"
  }
 },
 "nbformat": 4,
 "nbformat_minor": 2
}
